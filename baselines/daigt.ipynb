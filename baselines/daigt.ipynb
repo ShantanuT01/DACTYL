{
 "cells": [
  {
   "cell_type": "code",
   "execution_count": 1,
   "id": "02b9f2b3",
   "metadata": {
    "_cell_guid": "b1076dfc-b9ad-4769-8c92-a6c4dae69d19",
    "_uuid": "8f2839f25d086af736a60e9eeb907d3b93b6e0e5",
    "execution": {
     "iopub.execute_input": "2025-05-28T11:22:27.339859Z",
     "iopub.status.busy": "2025-05-28T11:22:27.339521Z",
     "iopub.status.idle": "2025-05-28T11:22:31.216947Z",
     "shell.execute_reply": "2025-05-28T11:22:31.216230Z"
    },
    "papermill": {
     "duration": 3.883011,
     "end_time": "2025-05-28T11:22:31.218629",
     "exception": false,
     "start_time": "2025-05-28T11:22:27.335618",
     "status": "completed"
    },
    "tags": []
   },
   "outputs": [],
   "source": [
    "import pandas as pd\n",
    "testing_frame = pd.read_json(\"/kaggle/input/dactyl-nonadversarial/dactyl_testing_split.json\")\n",
    "\n"
   ]
  },
  {
   "cell_type": "code",
   "execution_count": 2,
   "id": "ce079c4c",
   "metadata": {
    "execution": {
     "iopub.execute_input": "2025-05-28T11:22:31.223522Z",
     "iopub.status.busy": "2025-05-28T11:22:31.223272Z",
     "iopub.status.idle": "2025-05-28T15:06:02.449370Z",
     "shell.execute_reply": "2025-05-28T15:06:02.448345Z"
    },
    "papermill": {
     "duration": 13411.229926,
     "end_time": "2025-05-28T15:06:02.450824",
     "exception": false,
     "start_time": "2025-05-28T11:22:31.220898",
     "status": "completed"
    },
    "tags": []
   },
   "outputs": [
    {
     "name": "stderr",
     "output_type": "stream",
     "text": [
      "Device set to use cuda:0\n",
      "/usr/local/lib/python3.10/dist-packages/transformers/pipelines/text_classification.py:106: UserWarning: `return_all_scores` is now deprecated,  if want a similar functionality use `top_k=None` instead of `return_all_scores=True` or `top_k=1` instead of `return_all_scores=False`.\n",
      "  warnings.warn(\n",
      "100%|██████████| 91482/91482 [3:42:52<00:00,  6.84it/s]\n"
     ]
    }
   ],
   "source": [
    "# Use a pipeline as a high-level helper\n",
    "from transformers import pipeline, AutoTokenizer, AutoModelForSequenceClassification\n",
    "from tqdm import tqdm\n",
    "CHECKPOINT_PATH = \"/kaggle/input/detect-ai-text-deberta-v3-large/pytorch/large/1\"\n",
    "MAX_LEN = 1024\n",
    "BATCH_SIZE = 16\n",
    "\n",
    "tokenizer = AutoTokenizer.from_pretrained(CHECKPOINT_PATH)\n",
    "model = AutoModelForSequenceClassification.from_pretrained(\n",
    "    CHECKPOINT_PATH, max_position_embeddings=MAX_LEN\n",
    ").to(\"cuda\")\n",
    "pipe = pipeline(\"text-classification\", model=model,tokenizer=tokenizer )\n",
    "\n",
    "def data():\n",
    "    for text in testing_frame[\"text\"].values:\n",
    "        yield text\n",
    "y_pred = list()\n",
    "for result in tqdm(pipe(data(),batch_size=16, max_length=MAX_LEN,truncation=True, return_all_scores=True), total=len(testing_frame)):\n",
    "    for output in result:\n",
    "        if output[\"label\"] == \"LABEL_1\":\n",
    "            y_pred.append(output[\"score\"])\n",
    "\n"
   ]
  },
  {
   "cell_type": "code",
   "execution_count": 3,
   "id": "2e6024f7",
   "metadata": {
    "execution": {
     "iopub.execute_input": "2025-05-28T15:06:02.995164Z",
     "iopub.status.busy": "2025-05-28T15:06:02.994507Z",
     "iopub.status.idle": "2025-05-28T15:06:03.366438Z",
     "shell.execute_reply": "2025-05-28T15:06:03.365646Z"
    },
    "papermill": {
     "duration": 0.644101,
     "end_time": "2025-05-28T15:06:03.368003",
     "exception": false,
     "start_time": "2025-05-28T15:06:02.723902",
     "status": "completed"
    },
    "tags": []
   },
   "outputs": [],
   "source": [
    "testing_frame[\"daigt_pred\"] = y_pred\n",
    "testing_frame[[\"id\",\"daigt_pred\",\"target\",\"model\",\"domain\",\"category\"]].to_csv(f\"daigt-results.csv\",index=False)\n"
   ]
  },
  {
   "cell_type": "code",
   "execution_count": null,
   "id": "4e573314",
   "metadata": {
    "papermill": {
     "duration": 0.268554,
     "end_time": "2025-05-28T15:06:03.911351",
     "exception": false,
     "start_time": "2025-05-28T15:06:03.642797",
     "status": "completed"
    },
    "tags": []
   },
   "outputs": [],
   "source": []
  }
 ],
 "metadata": {
  "kaggle": {
   "accelerator": "nvidiaTeslaT4",
   "dataSources": [
    {
     "datasetId": 7246363,
     "sourceId": 11876811,
     "sourceType": "datasetVersion"
    },
    {
     "datasetId": 7520944,
     "sourceId": 11960929,
     "sourceType": "datasetVersion"
    },
    {
     "datasetId": 7522392,
     "sourceId": 11962974,
     "sourceType": "datasetVersion"
    },
    {
     "isSourceIdPinned": true,
     "modelId": 28847,
     "modelInstanceId": 18893,
     "sourceId": 22784,
     "sourceType": "modelInstanceVersion"
    }
   ],
   "dockerImageVersionId": 30886,
   "isGpuEnabled": true,
   "isInternetEnabled": true,
   "language": "python",
   "sourceType": "notebook"
  },
  "kernelspec": {
   "display_name": "Python 3",
   "language": "python",
   "name": "python3"
  },
  "language_info": {
   "codemirror_mode": {
    "name": "ipython",
    "version": 3
   },
   "file_extension": ".py",
   "mimetype": "text/x-python",
   "name": "python",
   "nbconvert_exporter": "python",
   "pygments_lexer": "ipython3",
   "version": "3.10.12"
  },
  "papermill": {
   "default_parameters": {},
   "duration": 13422.938634,
   "end_time": "2025-05-28T15:06:07.297005",
   "environment_variables": {},
   "exception": null,
   "input_path": "__notebook__.ipynb",
   "output_path": "__notebook__.ipynb",
   "parameters": {},
   "start_time": "2025-05-28T11:22:24.358371",
   "version": "2.6.0"
  }
 },
 "nbformat": 4,
 "nbformat_minor": 5
}
